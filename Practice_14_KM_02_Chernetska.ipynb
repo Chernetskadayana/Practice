{
  "nbformat": 4,
  "nbformat_minor": 0,
  "metadata": {
    "colab": {
      "name": "Practice_14_KM_01.ipynb",
      "provenance": [],
      "collapsed_sections": []
    },
    "kernelspec": {
      "name": "python3",
      "display_name": "Python 3.6.8 64-bit",
      "metadata": {
        "interpreter": {
          "hash": "f7b6bb42013a5637481957308d5a7306471b0750c3dc1fade55b6a2f7e8aac12"
        }
      }
    }
  },
  "cells": [
    {
      "cell_type": "markdown",
      "metadata": {
        "id": "FMqboNwO4rVs"
      },
      "source": [
        "# **Курс \"Програмування на мові Python\"**\n",
        "\n",
        "##### Викладачі:\n",
        "##### Борисенко Павло Борисович\n",
        "##### Щьоголєв Максим Олегович\n"
      ]
    },
    {
      "cell_type": "markdown",
      "metadata": {
        "id": "A2T6MigL5Z06"
      },
      "source": [
        "## **Практичне зайняття №14**\n",
        "\n",
        "### Тема: \"Робота з файлами\""
      ]
    },
    {
      "cell_type": "markdown",
      "metadata": {
        "id": "cfCdgK2zXm7e"
      },
      "source": [
        "### **Завдання 1 (1,5 бали)**\n",
        "\n",
        "У 1939 році друком вийшов роман американського письменика Ернеста Вінсента Райта \"Ґетсбі\". Особливу увагу публіки він здобув через те, що письменник жодного разу не використав у романі літеру \"e\" (роман складається з більше ніж 50,000 слів), яка є найбільш вживаною літерою в англійській мові.\n",
        "\n",
        "Порахуйте кількість входжень кожної літери у текст роману. Виведіть список літер англійського алфавіту, а також інформацію про те, скільки відсотків від усіх літер тексту складає кожна літера алфавіту.\n",
        "\n",
        "Зауваження:\n",
        "\n",
        "1. Програма має ігнорувати будь-які символи, окрім літер.\n",
        "\n",
        "2. Переведіть усі літери у верхній або у нижній регістр.\n",
        "\n",
        "3. Під час виведення відсортуйте літери у порядку зменшення їхнього відсотка. Літера \"e\" має стояти на останньому місці у цьому списку.\n",
        "\n",
        "4. Виведіть перші 5 та останні 5 літер відсортованого списку разом з відсотковими значеннями, що їм відповідають."
      ]
    },
    {
      "cell_type": "code",
      "metadata": {
        "tags": [],
        "id": "u4-fHJJ6U462"
      },
      "source": [
        "file = open('gadsby.txt', 'r')\n",
        "lines = [line.lower() for line in file]   \n",
        "new_list = []\n",
        "for lin in lines:\n",
        "    for el in lin:\n",
        "       if el.isalpha():\n",
        "           new_list.append(el)\n",
        "english_letters = []\n",
        "for i in range(ord(\"a\"), ord(\"z\") + 1):\n",
        "        english_letters.append(chr(i))\n",
        "diction = {}\n",
        "def help_func(list_1, letter):\n",
        "    n = 0\n",
        "    for el in list_1:\n",
        "        if el == letter:\n",
        "            n += 1\n",
        "    diction [\"Кількість літер \" + letter + \" :\"] = n\n",
        "for element in english_letters:\n",
        "    help_func(new_list, element)\n",
        "\n",
        "for key in diction:\n",
        "    print(key, diction[key])\n",
        "values = diction.values()\n",
        "keys = diction.keys()\n",
        "summ = 0\n",
        "for elem in values:\n",
        "    summ += elem\n",
        "list_of_percents = []\n",
        "for elem in values:\n",
        "    list_of_percents.append(elem)\n",
        "\n",
        "b = []\n",
        "for i in list_of_percents:\n",
        "    b.append((i*100)/summ)\n",
        "for i in range(len(b)):\n",
        "    b[i] = str(round(b[i], 2)) + \" %\"\n",
        "print(b)\n",
        "\n",
        "\n",
        "\n",
        "print(english_letters)\n",
        "file.close()"
      ],
      "execution_count": 124,
      "outputs": [
        {
          "output_type": "stream",
          "name": "stdout",
          "text": [
            "Кількість літер a : 23607\nКількість літер b : 4607\nКількість літер c : 5784\nКількість літер d : 8896\nКількість літер e : 507\nКількість літер f : 4657\nКількість літер g : 7735\nКількість літер h : 10653\nКількість літер i : 19050\nКількість літер j : 487\nКількість літер k : 2531\nКількість літер l : 11467\nКількість літер m : 4527\nКількість літер n : 18553\nКількість літер o : 22475\nКількість літер p : 4134\nКількість літер q : 114\nКількість літер r : 10372\nКількість літер s : 15074\nКількість літер t : 18488\nКількість літер u : 8953\nКількість літер v : 729\nКількість літер w : 6039\nКількість літер x : 176\nКількість літер y : 6860\nКількість літер z : 231\n['10.89 %', '2.13 %', '2.67 %', '4.11 %', '0.23 %', '2.15 %', '3.57 %', '4.92 %', '8.79 %', '0.22 %', '1.17 %', '5.29 %', '2.09 %', '8.56 %', '10.37 %', '1.91 %', '0.05 %', '4.79 %', '6.96 %', '8.53 %', '4.13 %', '0.34 %', '2.79 %', '0.08 %', '3.17 %', '0.11 %']\n['a', 'b', 'c', 'd', 'e', 'f', 'g', 'h', 'i', 'j', 'k', 'l', 'm', 'n', 'o', 'p', 'q', 'r', 's', 't', 'u', 'v', 'w', 'x', 'y', 'z']\n"
          ]
        }
      ]
    },
    {
      "cell_type": "markdown",
      "metadata": {
        "id": "A34oz70eU463"
      },
      "source": [
        "### **Завдання 2 (1,5 бали)**\n",
        "\n",
        "Створіть CSV-файл, що буде містити від 5 до 10 пісень (творів) вашого улюбленого музиканта. Назва файлу - ім'я музиканта (композитора) або назва гурту.\n",
        "\n",
        "1. Обов'язково додайте до файлу рядок з назвами двох колонок (Song, Year) або (Composition, Year).\n",
        "\n",
        "2. Після запису файлу роздрукуйте назву файлу та усі наявні у файлі рядки (включно із заголовками).\n",
        "\n",
        "3. Для запису та зчитування рядків скористайтесь функціями csv.DictWriter() та csv.DictReader()."
      ]
    },
    {
      "cell_type": "code",
      "metadata": {
        "id": "MEJIrG1GU463"
      },
      "source": [
        "import csv\n",
        "with open('sia.csv', 'w', newline='') as f:\n",
        "    str_name = ['Composition', 'Year']\n",
        "    row = csv.DictWriter(f, fieldnames = str_name)\n",
        "    row.writeheader()\n",
        "    row.writerow({'Composition':'Cheap Thrills', \n",
        "                  'Year': '2016'})\n",
        "    row.writerow({'Composition':'Chandelier', \n",
        "                  'Year': '2014'})\n",
        "    row.writerow({'Composition':'Unstoppable', \n",
        "                  'Year': '2016'})\n",
        "    row.writerow({'Composition':'Everyday is Christmas', \n",
        "                  'Year': '2017'})\n",
        "    row.writerow({'Composition':'Flames', \n",
        "                  'Year':'2018'})\n",
        "    row.writerow({'Composition':'Bird Set Free', \n",
        "                  'Year':'2016'})\n",
        "with open('sia.csv', newline='') as f:  \n",
        "    reader = csv.DictReader(f) \n",
        "    for heading in reader.fieldnames:\n",
        "        print(heading, end=' ')\n",
        "    print('\\n------------------------------')\n",
        "    for row in reader:\n",
        "        print(row['Composition'], row['Year'])\n"
      ],
      "execution_count": 107,
      "outputs": [
        {
          "output_type": "stream",
          "name": "stdout",
          "text": [
            "Composition Year \n------------------------------\nCheap Thrills 2016\nChandelier 2014\nUnstoppable 2016\nEveryday is Christmas 2017\nFlames 2018\nBird Set Free 2016\n"
          ]
        }
      ]
    },
    {
      "cell_type": "markdown",
      "metadata": {
        "id": "Jb-eSBsWU464"
      },
      "source": [
        "### **Завдання 3 (бонусне, 1 бал)**\n",
        "\n",
        "COCO Dataset - набір фотографій та анотацій до них. Його дуже часто використовують для тренування класифікаторів, призначених для розпізнавання об'єктів та визначення ключових точок на зображеннях.\n",
        "\n",
        "Завантажте файли з описом фотографій COCO Dataset за посиланням: http://images.cocodataset.org/annotations/image_info_test2017.zip\n",
        "\n",
        "1. Відкрийте файл image_info_test-dev2017.json. Інформація про фотографії з бази COCO міститься у полі \"images\". Інформація про категорії, на які розділені всі фотографії, міститься у полі \"categories\".\n",
        "\n",
        "2. Визначте кількість фотографій, інформацію про які можна знайти у цьому файлі (кількість елементів, що відповідають ключу \"images\").\n",
        "\n",
        "3. Визначте кількість наявних категорій (кількість елементів, що відповідають ключу \"categories\").\n",
        "\n",
        "4. Виведіть посилання на фотографію 000000000001.jpg (\"coco_url\"), висоту цієї фотографії (\"height\"), ширину (\"width\") та її ідентифікатор (\"id\").\n",
        "\n",
        "5. Опис структури JSON-файлу для набору фотографій COCO можна знайти за посиланням: https://cocodataset.org/#format-data\n",
        "\n",
        "6. Щоб перевірити правильність результатів, у VS Code встановіть розширення JSON та відкрийте файл image_info_test-dev2017.json. Розширення автоматично визначає кількість елементів у кожному полі."
      ]
    },
    {
      "cell_type": "code",
      "metadata": {
        "id": "74C6WKB_U464"
      },
      "source": [],
      "execution_count": null,
      "outputs": []
    }
  ]
}