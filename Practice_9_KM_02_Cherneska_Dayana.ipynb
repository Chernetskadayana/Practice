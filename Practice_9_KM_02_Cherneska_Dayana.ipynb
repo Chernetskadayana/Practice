{
  "nbformat": 4,
  "nbformat_minor": 0,
  "metadata": {
    "colab": {
      "name": "Practice_7_KM-01_.ipynb",
      "provenance": [],
      "collapsed_sections": []
    },
    "kernelspec": {
      "name": "python3",
      "display_name": "Python 3.6.8 64-bit",
      "metadata": {
        "interpreter": {
          "hash": "f7b6bb42013a5637481957308d5a7306471b0750c3dc1fade55b6a2f7e8aac12"
        }
      }
    }
  },
  "cells": [
    {
      "cell_type": "markdown",
      "metadata": {
        "id": "FMqboNwO4rVs"
      },
      "source": [
        "# **Курс \"Програмування на мові Python\"**\n",
        "\n",
        "##### Викладачі:\n",
        "##### Борисенко Павло Борисович\n",
        "##### Щьоголєв Максим Олегович\n"
      ]
    },
    {
      "cell_type": "markdown",
      "metadata": {
        "id": "A2T6MigL5Z06"
      },
      "source": [
        "## **Практичне зайняття №9**\n",
        "\n",
        "### Тема: \"Лямбда-функції. Функції вищих порядків\""
      ]
    },
    {
      "cell_type": "markdown",
      "metadata": {
        "id": "cfCdgK2zXm7e"
      },
      "source": [
        "### **Завдання 1 (1 бал)**\n",
        "\n",
        "Продавець роздрібного товару влаштовує розпродаж. Для всіх товарів знижка однакова - 60%. Щоб вивісити нові цінники, продавець хоче скласти таблицю, в якій для кожного товару буде підрахована його нова вартість та сума знижки.\n",
        "\n",
        "Написати програму, яка буде генерувати таку таблицю. Вартість одиниць товарів до розпродажу подано у списку products_list. \n",
        "\n",
        "1. Для підрахунку невідомих значень повинні використовуватись вбудовані функції вищих порядків.\n",
        "\n",
        "2. Вартість з урахуванням знижки та суми знижок для кожного товару повинні зберігатись у двох окремих списках. Порядок товарів у нових списках повинен бути такий самий, як і в списку products_list.\n",
        "\n",
        "3. Кожне підраховане числове значення має бути округлене до сотих.\n",
        "\n",
        "4. Дані повинні виводитись у вигляді:\n",
        "\n",
        "**Discount table:**\n",
        "\n",
        "**29.25 11.7 17.55**\n",
        "\n",
        "**48.99 19.6 29.39**\n",
        "\n",
        "**...**\n",
        "\n",
        "\n",
        "products_list = [[29.25, 48.99, 99.98, 124.65, 214.30, 543.90, 799.85]]\n"
      ]
    },
    {
      "cell_type": "code",
      "metadata": {
        "id": "ifNX2M7LXm7f"
      },
      "source": [
        "import copy\n",
        "products_list = [29.25, 48.99, 99.98, 124.65, 214.30, 543.90, 799.85]\n",
        "discount = copy.deepcopy(products_list)\n",
        "for i in range(len(discount)):\n",
        "    discount[i] = round(discount[i]*(0.6), 2)\n",
        "def subtraction(list_1, list_2):\n",
        "    result = list(map(lambda x, y: x - y, list_1, list_2))\n",
        "    for i in range(len(result)):\n",
        "        result[i] = round(result[i],2)\n",
        "    return result\n",
        "def new_price(list_1, list_2, function):\n",
        "    return function(list_1, list_2)\n",
        "discount_prices = new_price(products_list, discount, subtraction)\n",
        "print(\" Discount table: \")\n",
        "for index in range(len(products_list)): \n",
        "    print(str(products_list[index]) + \" \" + str(discount_prices[index]) + \" \" + str(discount[index]))\n",
        "\n"
      ],
      "execution_count": 100,
      "outputs": [
        {
          "output_type": "stream",
          "name": "stdout",
          "text": [
            " Discount table: \n29.25 11.7 17.55\n48.99 19.6 29.39\n99.98 39.99 59.99\n124.65 49.86 74.79\n214.3 85.72 128.58\n543.9 217.56 326.34\n799.85 319.94 479.91\n"
          ]
        }
      ]
    },
    {
      "source": [
        "### **Завдання 2 (2 бали)**\n",
        "\n",
        "Зазвичай рік має 365 днів. Однак у високосні роки додається ще один день - 29 лютого. Правила визначення високосного року такі:\n",
        "\n",
        "- Будь-який рік, що ділиться на 400 - високосний.\n",
        "\n",
        "- З тих років, що залишились, будь-який рік, що ділиться на 100 - **не** високосний.\n",
        "\n",
        "- З тих років, що залишились, будь-який рік, що ділиться на 4 - високосний.\n",
        "\n",
        "- Усі інші роки, що залишились - **не** високосні.\n",
        "\n",
        "1) Створіть функцію, в якій за допомогою вбудованих функцій вищих порядків будуть визначатися високосні роки серед перелічених років у списку years. Створена функція має повертати список високосних років.\n",
        "\n",
        "2) Створіть функцію вищих порядків, яка прийматиме на вхід попередню функцію та визначатиме кількість днів у місяці. Також функція повинна приймати на вхід ще 2 параметри: ціле число від 1 до 12 (місяць) та рік, як ціле чотирицифрове число. Ці значення корисувач має вводити з клавіатури. Перевірку введених даних слід виконувати поза межами функцій."
      ],
      "cell_type": "markdown",
      "metadata": {}
    },
    {
      "cell_type": "code",
      "execution_count": 19,
      "metadata": {},
      "outputs": [
        {
          "output_type": "stream",
          "name": "stdout",
          "text": [
            "Всі високосні роки з 1900 по 2020: \n",
            "[1904, 1908, 1912, 1916, 1920, 1924, 1928, 1932, 1936, 1940, 1944, 1948, 1952, 1956, 1960, 1964, 1968, 1972, 1976, 1980, 1984, 1988, 1992, 1996, 2000, 2004, 2008, 2012, 2016, 2020]\n",
            "Кількість днів у місяці: \n",
            "30\n",
            "\n",
            "Ввести нові дані?(так або ні.)\n",
            "Помилка! Введіть так або ні.\n",
            "Помилка! Введіть так або ні.\n",
            "Введіть значення у вигляді цілого числа.\n",
            "Введіть значення у вигляді цілого числа.\n",
            "Введіть число від 1 до 12!\n",
            "Введіть рік починаючи з значення 1900 по 2020\n",
            "Всі високосні роки з 1900 по 2020: \n",
            "[1904, 1908, 1912, 1916, 1920, 1924, 1928, 1932, 1936, 1940, 1944, 1948, 1952, 1956, 1960, 1964, 1968, 1972, 1976, 1980, 1984, 1988, 1992, 1996, 2000, 2004, 2008, 2012, 2016, 2020]\n",
            "Кількість днів у місяці: \n",
            "30\n",
            "\n",
            "Ввести нові дані?(так або ні.)\n"
          ]
        }
      ],
      "source": [
        "while True:\n",
        "    while True:\n",
        "        try:\n",
        "            month = int(input(\"Введіть місяць(від 1 до 12): \"))\n",
        "            if month > 12 or month < 1:\n",
        "                print(\"Введіть число від 1 до 12!\")\n",
        "            else:\n",
        "                break\n",
        "        except ValueError:\n",
        "            print(\"Введіть значення у вигляді цілого числа.\")\n",
        "            continue\n",
        "    while True:\n",
        "        try:\n",
        "            year = int(input(\"Введіть ціле значення l : \"))\n",
        "            if year > 2020 or year < 1900:\n",
        "                print(\"Введіть рік починаючи з значення 1900 по 2020\")\n",
        "            else:\n",
        "                break\n",
        "        except ValueError:\n",
        "            print(\"Введіть значення у вигляді цілого числа.\")\n",
        "            continue\n",
        "    import numpy as np\n",
        "    import copy\n",
        "    years = list(np.arange(1900, 2020+1, 1))\n",
        "    list_1 = copy.deepcopy(years)\n",
        "    def function_1():\n",
        "        def function_2(list1):\n",
        "            leap_years = []\n",
        "            for element in list1:\n",
        "                if element % 400 == 0:\n",
        "                    list1.remove(element)\n",
        "                    leap_years.append(element)\n",
        "                elif element % 100 == 0:\n",
        "                    continue\n",
        "                elif element % 4 == 0:\n",
        "                    list1.remove(element)\n",
        "                    leap_years.append(element)\n",
        "                else: \n",
        "                    continue\n",
        "            return leap_years\n",
        "        return function_2 \n",
        "    print(\"Всі високосні роки з 1900 по 2020: \")\n",
        "    print(function_1()(years))\n",
        "    n = 0\n",
        "    def days(function_1, list_1):\n",
        "        k = function_1()(list_1)\n",
        "        if year in k:\n",
        "            if month % 2 == 1 and month <= 7 or month % 2 == 0 and month > 7:\n",
        "                n = 31\n",
        "            elif month == 2:\n",
        "                n = 29\n",
        "            else:\n",
        "                n = 30\n",
        "        else:\n",
        "            if month % 2 == 1 and month <= 7 or month % 2 == 0 and month > 7:\n",
        "                n = 31\n",
        "            elif month == 2:\n",
        "                n = 28\n",
        "            else:\n",
        "                n = 30    \n",
        "        return n\n",
        "    print(\"Кількість днів у місяці: \")\n",
        "    print(days(function_1, list_1))\n",
        " \n",
        "    print(\"\\n\"\"Ввести нові дані?(так або ні.)\")\n",
        "    # перезапуск програми за бажанням\n",
        "    while True:\n",
        "        start = input()\n",
        "        if start == \"так\" or start == \"ні\":\n",
        "            break\n",
        "        else:\n",
        "            print(\"Помилка! Введіть так або ні.\")\n",
        "    if start == \"ні\":\n",
        "        break\n"
      ]
    },
    {
      "cell_type": "code",
      "execution_count": null,
      "metadata": {},
      "outputs": [],
      "source": []
    }
  ]
}