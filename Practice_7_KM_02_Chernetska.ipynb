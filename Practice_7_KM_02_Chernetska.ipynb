{
  "nbformat": 4,
  "nbformat_minor": 0,
  "metadata": {
    "colab": {
      "name": "Practice_7_KM-01_.ipynb",
      "provenance": [],
      "collapsed_sections": []
    },
    "kernelspec": {
      "name": "Python 3.6.8 64-bit",
      "display_name": "Python 3.6.8 64-bit",
      "metadata": {
        "interpreter": {
          "hash": "f7b6bb42013a5637481957308d5a7306471b0750c3dc1fade55b6a2f7e8aac12"
        }
      }
    }
  },
  "cells": [
    {
      "cell_type": "markdown",
      "metadata": {
        "id": "FMqboNwO4rVs"
      },
      "source": [
        "# **Курс \"Програмування на мові Python\"**\n",
        "\n",
        "##### Викладачі:\n",
        "##### Борисенко Павло Борисович\n",
        "##### Щьоголєв Максим Олегович\n"
      ]
    },
    {
      "cell_type": "markdown",
      "metadata": {
        "id": "A2T6MigL5Z06"
      },
      "source": [
        "## **Практичне зайняття №7**\n",
        "\n",
        "### Тема: \"Перевірка даних. Робота з виключеннями. Регулярні вирази\""
      ]
    },
    {
      "cell_type": "markdown",
      "metadata": {
        "id": "cfCdgK2zXm7e"
      },
      "source": [
        "### **Завдання 1 (1,5 бали)**\n",
        "\n",
        "Переробити завдання №1 практичної роботи №6 з використанням регулярних виразів.\n",
        "\n",
        "1. Створити шаблон регулярного виразу.\n",
        "\n",
        "2. За допомогою функції compile() створити об'єкт регулярного виразу.\n",
        "\n",
        "3. Всі інші вимоги залишаються такими ж, як і в оригінальному завданні."
      ]
    },
    {
      "cell_type": "code",
      "metadata": {
        "id": "ifNX2M7LXm7f"
      },
      "source": [
        "import re\n",
        "pose_estimation = \"[BodyPart:0-(0.55, 0.17) score=0.81 BodyPart:1-(0.49, 0.27) score=0.85 BodyPart:2-(0.41, 0.26) score=0.67 BodyPart:3-(0.33, 0.37) score=0.72 BodyPart:4-(0.36, 0.48) score=0.78 BodyPart:5-(0.58, 0.27) score=0.81 BodyPart:6-(0.65, 0.38) score=0.88 BodyPart:7-(0.62, 0.48) score=0.86 BodyPart:8-(0.43, 0.48) score=0.60 BodyPart:9-(0.43, 0.66) score=0.67 BodyPart:10-(0.53, 0.79) score=0.56 BodyPart:11-(0.53, 0.48) score=0.56 BodyPart:12-(0.59, 0.66) score=0.75 BodyPart:13-(0.49, 0.80) score=0.50 BodyPart:14-(0.54, 0.15) score=0.73 BodyPart:15-(0.56, 0.15) score=0.85 BodyPart:16-(0.48, 0.16) score=0.81 BodyPart:17-(0.83, 0.18) score=0.79]\"\n",
        "exp = r'\\d.\\d\\d'\n",
        "res = re.compile(exp)\n",
        "result = res.findall(pose_estimation)\n",
        "points = []\n",
        "scores = []\n",
        "n = 1\n",
        "while n != 73:\n",
        "     for element in result[n:n+2]:\n",
        "         points.append(element)\n",
        "     n += 4\n",
        "print(\" Points: \")\n",
        "print(points)\n",
        "k = 3\n",
        "while k != 67:\n",
        "     for element in result[k:k+1]:\n",
        "         scores.append(element)\n",
        "     k += 4\n",
        "print(\" Scores: \")\n",
        "print(scores)\n"
      ],
      "execution_count": 2,
      "outputs": []
    },
    {
      "cell_type": "markdown",
      "metadata": {
        "id": "M1Sg0vXJXm7n"
      },
      "source": [
        "### **Завдання 2 (1,5 бали)**\n",
        "\n",
        "Написати програму підрахунку коренів квадратного рівняння без попередніх перевірок.\n",
        "\n",
        "1. Користувач має вводити коефіцієнти a, b та c з клавіатури.\n",
        "\n",
        "2. Програма має обробляти помилки ділення на 0, кореня від'ємного числа та інші, а також виводити відповідні повідомлення у разі виникнення таких помилок.\n",
        "\n",
        "3. Якщо рівняння не має коренів, программа має генерувати помилку за допомогою ключового слова raise, а потім обробляти її.\n",
        "\n",
        "4. Правильно написана програма при виникненні різних помилок має виводити текст помилки, а також різні повідомлення про те, в чому суть цих помилок. Необроблених помилок бути не повинно."
      ]
    },
    {
      "cell_type": "code",
      "metadata": {
        "id": "co7fcAuvXm7o"
      },
      "source": [
        "while True:\n",
        "    while True:\n",
        "        try:\n",
        "            a = float(input(\"Введіть значення a: \"))\n",
        "            break\n",
        "        except ValueError:\n",
        "            print(\"Значення повинно належати до типу float\")\n",
        "    while True:\n",
        "        try:\n",
        "            b = float(input(\"Введіть значення b: \"))\n",
        "            break\n",
        "\n",
        "        except ValueError:\n",
        "            print(\"Значення повинно належати до типу float\")\n",
        "    while True:\n",
        "        try:\n",
        "            c = float(input(\"Введіть значення c: \"))\n",
        "            break\n",
        "        except ValueError:\n",
        "            print(\"Значення повинно належати до типу float\")\n",
        "    d = b**2-4*a*c\n",
        "    try:\n",
        "        if a == 0:\n",
        "             raise ZeroDivisionError(\"Помилка! Добування кореня з від'ємного числа \")\n",
        "        else:\n",
        "            try:\n",
        "                if d > 0:\n",
        "                    x1 = ((-b) + d ** 0.5) / 2 * a\n",
        "                    x2 = ((-b) - d ** 0.5) / 2 * a\n",
        "                    print(\"Результат: \" + str(x1) + \", \" + str(x2))\n",
        "                elif d == 0:\n",
        "                    x = ((-b) + d ** 0.5) / 2 * a\n",
        "                else:\n",
        "                    raise ValueError(\"Помилка! Добування кореня з від'ємного числа \")\n",
        "            except ValueError as ve:\n",
        "                print(ve)\n",
        "\n",
        "    except ZeroDivisionError as ve:\n",
        "        print(ve)\n",
        "    print(\"Ввести нові значення?(так або ні.)\")\n",
        "    while True:\n",
        "        start = input()\n",
        "        if start == \"так\" or start == \"ні\":\n",
        "            break\n",
        "        else:\n",
        "            print(\"Помилка! Введіть так або ні.\")\n",
        "        if start == \"ні\":\n",
        "            break\n"
      ],
      "execution_count": null,
      "outputs": []
    },
    {
      "cell_type": "code",
      "execution_count": null,
      "metadata": {},
      "outputs": [],
      "source": []
    }
  ]
}